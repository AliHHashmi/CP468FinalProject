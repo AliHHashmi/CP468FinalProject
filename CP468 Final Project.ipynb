{
 "cells": [
  {
   "cell_type": "code",
   "execution_count": 367,
   "id": "aeac33fc",
   "metadata": {},
   "outputs": [],
   "source": [
    "\"\"\"\n",
    "Name: Ali Hashmi\n",
    "    Student ID: 170797990\n",
    "Name: Bilal Khan \n",
    "    Student ID: 200932410\n",
    "\"\"\"\n",
    "import pandas as pd #Import pandas \n",
    "import numpy as np #Import numpy \n",
    "import matplotlib.pyplot as plt #Import Matplotlib\n",
    "from sklearn.linear_model import LogisticRegression #Import LogisticRegression Function To Test With My Own \n",
    "from sklearn.metrics import classification_report #Classification Report Module \n",
    "from sklearn.tree import DecisionTreeClassifier #Import Decision Tree Model\n",
    "from sklearn.neighbors import KNeighborsClassifier #Import KNN Model"
   ]
  },
  {
   "cell_type": "code",
   "execution_count": 368,
   "id": "566f672c",
   "metadata": {},
   "outputs": [
    {
     "data": {
      "text/html": [
       "<div>\n",
       "<style scoped>\n",
       "    .dataframe tbody tr th:only-of-type {\n",
       "        vertical-align: middle;\n",
       "    }\n",
       "\n",
       "    .dataframe tbody tr th {\n",
       "        vertical-align: top;\n",
       "    }\n",
       "\n",
       "    .dataframe thead th {\n",
       "        text-align: right;\n",
       "    }\n",
       "</style>\n",
       "<table border=\"1\" class=\"dataframe\">\n",
       "  <thead>\n",
       "    <tr style=\"text-align: right;\">\n",
       "      <th></th>\n",
       "      <th>Age</th>\n",
       "      <th>Sex</th>\n",
       "      <th>ChestPainType</th>\n",
       "      <th>RestingBP</th>\n",
       "      <th>Cholesterol</th>\n",
       "      <th>FastingBS</th>\n",
       "      <th>RestingECG</th>\n",
       "      <th>MaxHR</th>\n",
       "      <th>ExerciseAngina</th>\n",
       "      <th>Oldpeak</th>\n",
       "      <th>ST_Slope</th>\n",
       "      <th>HeartDisease</th>\n",
       "    </tr>\n",
       "  </thead>\n",
       "  <tbody>\n",
       "    <tr>\n",
       "      <th>0</th>\n",
       "      <td>40</td>\n",
       "      <td>M</td>\n",
       "      <td>ATA</td>\n",
       "      <td>140</td>\n",
       "      <td>289</td>\n",
       "      <td>0</td>\n",
       "      <td>Normal</td>\n",
       "      <td>172</td>\n",
       "      <td>N</td>\n",
       "      <td>0.0</td>\n",
       "      <td>Up</td>\n",
       "      <td>0</td>\n",
       "    </tr>\n",
       "    <tr>\n",
       "      <th>1</th>\n",
       "      <td>49</td>\n",
       "      <td>F</td>\n",
       "      <td>NAP</td>\n",
       "      <td>160</td>\n",
       "      <td>180</td>\n",
       "      <td>0</td>\n",
       "      <td>Normal</td>\n",
       "      <td>156</td>\n",
       "      <td>N</td>\n",
       "      <td>1.0</td>\n",
       "      <td>Flat</td>\n",
       "      <td>1</td>\n",
       "    </tr>\n",
       "    <tr>\n",
       "      <th>2</th>\n",
       "      <td>37</td>\n",
       "      <td>M</td>\n",
       "      <td>ATA</td>\n",
       "      <td>130</td>\n",
       "      <td>283</td>\n",
       "      <td>0</td>\n",
       "      <td>ST</td>\n",
       "      <td>98</td>\n",
       "      <td>N</td>\n",
       "      <td>0.0</td>\n",
       "      <td>Up</td>\n",
       "      <td>0</td>\n",
       "    </tr>\n",
       "    <tr>\n",
       "      <th>3</th>\n",
       "      <td>48</td>\n",
       "      <td>F</td>\n",
       "      <td>ASY</td>\n",
       "      <td>138</td>\n",
       "      <td>214</td>\n",
       "      <td>0</td>\n",
       "      <td>Normal</td>\n",
       "      <td>108</td>\n",
       "      <td>Y</td>\n",
       "      <td>1.5</td>\n",
       "      <td>Flat</td>\n",
       "      <td>1</td>\n",
       "    </tr>\n",
       "    <tr>\n",
       "      <th>4</th>\n",
       "      <td>54</td>\n",
       "      <td>M</td>\n",
       "      <td>NAP</td>\n",
       "      <td>150</td>\n",
       "      <td>195</td>\n",
       "      <td>0</td>\n",
       "      <td>Normal</td>\n",
       "      <td>122</td>\n",
       "      <td>N</td>\n",
       "      <td>0.0</td>\n",
       "      <td>Up</td>\n",
       "      <td>0</td>\n",
       "    </tr>\n",
       "  </tbody>\n",
       "</table>\n",
       "</div>"
      ],
      "text/plain": [
       "   Age Sex ChestPainType  RestingBP  Cholesterol  FastingBS RestingECG  MaxHR  \\\n",
       "0   40   M           ATA        140          289          0     Normal    172   \n",
       "1   49   F           NAP        160          180          0     Normal    156   \n",
       "2   37   M           ATA        130          283          0         ST     98   \n",
       "3   48   F           ASY        138          214          0     Normal    108   \n",
       "4   54   M           NAP        150          195          0     Normal    122   \n",
       "\n",
       "  ExerciseAngina  Oldpeak ST_Slope  HeartDisease  \n",
       "0              N      0.0       Up             0  \n",
       "1              N      1.0     Flat             1  \n",
       "2              N      0.0       Up             0  \n",
       "3              Y      1.5     Flat             1  \n",
       "4              N      0.0       Up             0  "
      ]
     },
     "execution_count": 368,
     "metadata": {},
     "output_type": "execute_result"
    }
   ],
   "source": [
    "heartDataFrame = pd.read_csv('heart.csv') #CSV to DataFrame\n",
    "heartDataFrame.head() #View A Sample Of The Table "
   ]
  },
  {
   "cell_type": "code",
   "execution_count": 369,
   "id": "cb934442",
   "metadata": {},
   "outputs": [
    {
     "name": "stdout",
     "output_type": "stream",
     "text": [
      "Percentage of Patients That Have Heart Disease: 55.34%\n",
      "Percentage of Patients That Do Not Heart Disease: 44.66%\n"
     ]
    }
   ],
   "source": [
    "heartDiseaseFrame = heartDataFrame.HeartDisease.value_counts() #Count The 0s And 1s In The Heart Disease Column, Store In Own Dataframe\n",
    "totalWithHeartDisease = heartDiseaseFrame[1] #All Positive Cases Go In This Data Frame\n",
    "totalWithoutHeartDisease = heartDiseaseFrame[0] #All Negative Cases Go In This Data Frame\n",
    "hdCount = totalWithHeartDisease #Count of all people with heart disease\n",
    "hdNCount = totalWithoutHeartDisease #Count of all people without heart disease\n",
    "totalCount = hdCount + hdNCount #Total count of all people \n",
    "print(\"Percentage of Patients That Have Heart Disease: {:.2f}%\".format((hdCount / totalCount)*100)) #Percentage of people with heart disease\n",
    "print(\"Percentage of Patients That Do Not Heart Disease: {:.2f}%\".format((hdNCount / totalCount)*100)) #Percentage of people without heart disease"
   ]
  },
  {
   "cell_type": "code",
   "execution_count": 370,
   "id": "4a146eb5",
   "metadata": {},
   "outputs": [
    {
     "data": {
      "image/png": "[encoded data removed]",
      "text/plain": [
       "<Figure size 432x288 with 1 Axes>"
      ]
     },
     "metadata": {
      "needs_background": "light"
     },
     "output_type": "display_data"
    }
   ],
   "source": [
    "#Create A Graph Of Positive vs Negative Cases\n",
    "fig = plt.figure()\n",
    "barGraph = fig.add_axes([0,0,1,1])\n",
    "Labels = [\"Heart Disease\", \"No Heart Disease\"]\n",
    "heartDiseaseStatus = heartDiseaseFrame\n",
    "barGraph.bar(Labels, heartDiseaseStatus)\n",
    "plt.show()"
   ]
  },
  {
   "cell_type": "code",
   "execution_count": 371,
   "id": "20940fda",
   "metadata": {},
   "outputs": [
    {
     "data": {
      "image/png": "[encoded data removed]",
      "text/plain": [
       "<Figure size 432x288 with 1 Axes>"
      ]
     },
     "metadata": {
      "needs_background": "light"
     },
     "output_type": "display_data"
    },
    {
     "name": "stdout",
     "output_type": "stream",
     "text": [
      "Percentage of Female Patients: 21.02%\n",
      "Percentage of Male Patients: 78.98%\n"
     ]
    }
   ],
   "source": [
    "femalePatientDataframe = heartDataFrame[heartDataFrame[\"Sex\"] == \"F\"] #Female only dataframe\n",
    "malePatientDataframe = heartDataFrame[heartDataFrame[\"Sex\"] == \"M\"] #Male only dataframe\n",
    "sexDataFrame = heartDataFrame.Sex.value_counts() #Count dataframe to make it easier to plot \n",
    "#Plot the bar graph of male patients vs female patients \n",
    "fig = plt.figure() \n",
    "barGraph = fig.add_axes([0,0,1,1])\n",
    "Labels = [\"Male\", \"Female\"]\n",
    "barGraph.bar(Labels, sexDataFrame)\n",
    "plt.show()\n",
    "totalFemale = len(femalePatientDataframe) #Count Of Female Patients \n",
    "totalMale = len(malePatientDataframe) #Count Of Male Patients \n",
    "print(\"Percentage of Female Patients: {:.2f}%\".format((totalFemale / totalCount)*100)) #Percentage of female patients\n",
    "print(\"Percentage of Male Patients: {:.2f}%\".format((totalMale / totalCount)*100)) #Percentage of male patients"
   ]
  },
  {
   "cell_type": "code",
   "execution_count": 372,
   "id": "59ea4d20",
   "metadata": {},
   "outputs": [
    {
     "data": {
      "image/png": "[encoded data removed]",
      "text/plain": [
       "<Figure size 432x288 with 1 Axes>"
      ]
     },
     "metadata": {
      "needs_background": "light"
     },
     "output_type": "display_data"
    }
   ],
   "source": [
    "femaleFrame = femalePatientDataframe.HeartDisease.value_counts() #Count dataframe to make it easier to plot \n",
    "#Plot the bar graph of female patients with heart disease vs female patients without heart disease \n",
    "fig = plt.figure() \n",
    "barGraph = fig.add_axes([0,0,1,1])\n",
    "Labels = [\"No Heart Disease\", \"Heart Disease\"]\n",
    "barGraph.bar(Labels, femaleFrame)\n",
    "plt.show()"
   ]
  },
  {
   "cell_type": "code",
   "execution_count": 373,
   "id": "d04aaa73",
   "metadata": {},
   "outputs": [
    {
     "data": {
      "image/png": "[encoded data removed]",
      "text/plain": [
       "<Figure size 432x288 with 1 Axes>"
      ]
     },
     "metadata": {
      "needs_background": "light"
     },
     "output_type": "display_data"
    }
   ],
   "source": [
    "maleFrame = malePatientDataframe.HeartDisease.value_counts() #Count dataframe to make it easier to plot \n",
    "#Plot the bar graph of male patients with heart disease vs male patients without heart diseaese\n",
    "fig = plt.figure() \n",
    "barGraph = fig.add_axes([0,0,1,1])\n",
    "Labels = [\"No Heart Disease\", \"Heart Disease\"]\n",
    "barGraph.bar(Labels, maleFrame)\n",
    "plt.show()"
   ]
  },
  {
   "cell_type": "code",
   "execution_count": 374,
   "id": "ad08d0cb",
   "metadata": {},
   "outputs": [
    {
     "data": {
      "image/png": "[encoded data removed]",
      "text/plain": [
       "<Figure size 1080x432 with 1 Axes>"
      ]
     },
     "metadata": {
      "needs_background": "light"
     },
     "output_type": "display_data"
    }
   ],
   "source": [
    "pd.crosstab(heartDataFrame.Sex,heartDataFrame.HeartDisease).plot(kind=\"bar\",figsize=(15,6),color=['#000CFF','#FF00F0' ])\n",
    "plt.title('Heart Disease Frequency for Sex')\n",
    "plt.xlabel('Sex (0 = Female, 1 = Male)')\n",
    "plt.xticks(rotation=0)\n",
    "plt.legend([\"No Heart Disease\", \"Heart Disease\"])\n",
    "plt.ylabel('Frequency')\n",
    "plt.show()"
   ]
  },
  {
   "cell_type": "code",
   "execution_count": 375,
   "id": "2796c371",
   "metadata": {},
   "outputs": [
    {
     "data": {
      "image/png": "[encoded data removed]",
      "text/plain": [
       "<Figure size 1080x432 with 1 Axes>"
      ]
     },
     "metadata": {
      "needs_background": "light"
     },
     "output_type": "display_data"
    }
   ],
   "source": [
    "pd.crosstab(heartDataFrame.Age,heartDataFrame.HeartDisease).plot(kind=\"bar\",figsize=(15,6),color=['#000CFF','#FF00F0' ])\n",
    "plt.title('Heart Disease Frequency Across Ages')\n",
    "plt.xlabel('Age')\n",
    "plt.xticks(rotation=0)\n",
    "plt.legend([\"Age\", \"Heart Disease\"])\n",
    "plt.ylabel('Frequency')\n",
    "plt.show()"
   ]
  },
  {
   "cell_type": "code",
   "execution_count": 377,
   "id": "ea10d359",
   "metadata": {},
   "outputs": [],
   "source": [
    "heartDataFrame = heartDataFrame.replace('M', 0, regex=True) #Change the male Letter to 0\n",
    "heartDataFrame = heartDataFrame.replace('F', 1, regex=True) #Change the female letter to 1\n",
    "heartDataFrame = heartDataFrame.replace('ATA', 0, regex=True) #Change the Chest Pain Type ATA to 0\n",
    "heartDataFrame = heartDataFrame.replace('NAP', 1, regex=True) #Change the Chest Pain Type NAP to 0\n",
    "heartDataFrame = heartDataFrame.replace('ASY', 2, regex=True) #Change the Chest Pain Type ASY to 2\n",
    "heartDataFrame = heartDataFrame.replace('TA', 3, regex=True) #Change The Chest Pain Type TA to 3\n",
    "heartDataFrame = heartDataFrame.replace('Normal', 0, regex=True) #Change the ECG Rating 'Normal' To 0\n",
    "heartDataFrame = heartDataFrame.replace('ST', 1, regex=True) #Change the ECG Reading 'ST' to 1\n",
    "heartDataFrame = heartDataFrame.replace('LVH', 2, regex=True) #Change the ECG Reading 'LVH' To 2\n",
    "heartDataFrame = heartDataFrame.drop(columns=['ST_Slope', 'ExerciseAngina'], axis = 1) #Drop the two columns that are not useful to us"
   ]
  },
  {
   "cell_type": "code",
   "execution_count": 378,
   "id": "c5073eed",
   "metadata": {},
   "outputs": [
    {
     "name": "stderr",
     "output_type": "stream",
     "text": [
      "C:\\Users\\aliha\\Anaconda3\\lib\\site-packages\\numpy\\core\\fromnumeric.py:84: FutureWarning: In a future version, DataFrame.min(axis=None) will return a scalar min over the entire DataFrame. To retain the old behavior, use 'frame.min(axis=0)' or just 'frame.min()'\n",
      "  return reduction(axis=axis, out=out, **passkwargs)\n",
      "C:\\Users\\aliha\\Anaconda3\\lib\\site-packages\\numpy\\core\\fromnumeric.py:84: FutureWarning: In a future version, DataFrame.max(axis=None) will return a scalar max over the entire DataFrame. To retain the old behavior, use 'frame.max(axis=0)' or just 'frame.max()'\n",
      "  return reduction(axis=axis, out=out, **passkwargs)\n"
     ]
    }
   ],
   "source": [
    "df = heartDataFrame #Just create a copy\n",
    "data = df.drop(['HeartDisease'], axis = 1) #Drop The HeartDisease Result class for the copy \n",
    "x = (data - np.min(data)) / (np.max(data) - np.min(data)).values #Normalize The Values \n",
    "y = heartDataFrame.HeartDisease.values #Y Has The results \n",
    "x_train, x_test, y_train, y_test = train_test_split(x,y,test_size = 0.2,random_state=0)  #Split array into testing data and training data\n"
   ]
  },
  {
   "cell_type": "code",
   "execution_count": 379,
   "id": "6090e40d",
   "metadata": {},
   "outputs": [
    {
     "data": {
      "text/html": [
       "<div>\n",
       "<style scoped>\n",
       "    .dataframe tbody tr th:only-of-type {\n",
       "        vertical-align: middle;\n",
       "    }\n",
       "\n",
       "    .dataframe tbody tr th {\n",
       "        vertical-align: top;\n",
       "    }\n",
       "\n",
       "    .dataframe thead th {\n",
       "        text-align: right;\n",
       "    }\n",
       "</style>\n",
       "<table border=\"1\" class=\"dataframe\">\n",
       "  <thead>\n",
       "    <tr style=\"text-align: right;\">\n",
       "      <th></th>\n",
       "      <th>Age</th>\n",
       "      <th>Sex</th>\n",
       "      <th>ChestPainType</th>\n",
       "      <th>RestingBP</th>\n",
       "      <th>Cholesterol</th>\n",
       "      <th>FastingBS</th>\n",
       "      <th>RestingECG</th>\n",
       "      <th>MaxHR</th>\n",
       "      <th>Oldpeak</th>\n",
       "    </tr>\n",
       "  </thead>\n",
       "  <tbody>\n",
       "    <tr>\n",
       "      <th>0</th>\n",
       "      <td>40</td>\n",
       "      <td>0</td>\n",
       "      <td>0</td>\n",
       "      <td>140</td>\n",
       "      <td>289</td>\n",
       "      <td>0</td>\n",
       "      <td>0</td>\n",
       "      <td>172</td>\n",
       "      <td>0.0</td>\n",
       "    </tr>\n",
       "    <tr>\n",
       "      <th>1</th>\n",
       "      <td>49</td>\n",
       "      <td>1</td>\n",
       "      <td>1</td>\n",
       "      <td>160</td>\n",
       "      <td>180</td>\n",
       "      <td>0</td>\n",
       "      <td>0</td>\n",
       "      <td>156</td>\n",
       "      <td>1.0</td>\n",
       "    </tr>\n",
       "    <tr>\n",
       "      <th>2</th>\n",
       "      <td>37</td>\n",
       "      <td>0</td>\n",
       "      <td>0</td>\n",
       "      <td>130</td>\n",
       "      <td>283</td>\n",
       "      <td>0</td>\n",
       "      <td>1</td>\n",
       "      <td>98</td>\n",
       "      <td>0.0</td>\n",
       "    </tr>\n",
       "    <tr>\n",
       "      <th>3</th>\n",
       "      <td>48</td>\n",
       "      <td>1</td>\n",
       "      <td>2</td>\n",
       "      <td>138</td>\n",
       "      <td>214</td>\n",
       "      <td>0</td>\n",
       "      <td>0</td>\n",
       "      <td>108</td>\n",
       "      <td>1.5</td>\n",
       "    </tr>\n",
       "    <tr>\n",
       "      <th>4</th>\n",
       "      <td>54</td>\n",
       "      <td>0</td>\n",
       "      <td>1</td>\n",
       "      <td>150</td>\n",
       "      <td>195</td>\n",
       "      <td>0</td>\n",
       "      <td>0</td>\n",
       "      <td>122</td>\n",
       "      <td>0.0</td>\n",
       "    </tr>\n",
       "    <tr>\n",
       "      <th>...</th>\n",
       "      <td>...</td>\n",
       "      <td>...</td>\n",
       "      <td>...</td>\n",
       "      <td>...</td>\n",
       "      <td>...</td>\n",
       "      <td>...</td>\n",
       "      <td>...</td>\n",
       "      <td>...</td>\n",
       "      <td>...</td>\n",
       "    </tr>\n",
       "    <tr>\n",
       "      <th>913</th>\n",
       "      <td>45</td>\n",
       "      <td>0</td>\n",
       "      <td>3</td>\n",
       "      <td>110</td>\n",
       "      <td>264</td>\n",
       "      <td>0</td>\n",
       "      <td>0</td>\n",
       "      <td>132</td>\n",
       "      <td>1.2</td>\n",
       "    </tr>\n",
       "    <tr>\n",
       "      <th>914</th>\n",
       "      <td>68</td>\n",
       "      <td>0</td>\n",
       "      <td>2</td>\n",
       "      <td>144</td>\n",
       "      <td>193</td>\n",
       "      <td>1</td>\n",
       "      <td>0</td>\n",
       "      <td>141</td>\n",
       "      <td>3.4</td>\n",
       "    </tr>\n",
       "    <tr>\n",
       "      <th>915</th>\n",
       "      <td>57</td>\n",
       "      <td>0</td>\n",
       "      <td>2</td>\n",
       "      <td>130</td>\n",
       "      <td>131</td>\n",
       "      <td>0</td>\n",
       "      <td>0</td>\n",
       "      <td>115</td>\n",
       "      <td>1.2</td>\n",
       "    </tr>\n",
       "    <tr>\n",
       "      <th>916</th>\n",
       "      <td>57</td>\n",
       "      <td>1</td>\n",
       "      <td>0</td>\n",
       "      <td>130</td>\n",
       "      <td>236</td>\n",
       "      <td>0</td>\n",
       "      <td>2</td>\n",
       "      <td>174</td>\n",
       "      <td>0.0</td>\n",
       "    </tr>\n",
       "    <tr>\n",
       "      <th>917</th>\n",
       "      <td>38</td>\n",
       "      <td>0</td>\n",
       "      <td>1</td>\n",
       "      <td>138</td>\n",
       "      <td>175</td>\n",
       "      <td>0</td>\n",
       "      <td>0</td>\n",
       "      <td>173</td>\n",
       "      <td>0.0</td>\n",
       "    </tr>\n",
       "  </tbody>\n",
       "</table>\n",
       "<p>918 rows × 9 columns</p>\n",
       "</div>"
      ],
      "text/plain": [
       "     Age  Sex  ChestPainType  RestingBP  Cholesterol  FastingBS  RestingECG  \\\n",
       "0     40    0              0        140          289          0           0   \n",
       "1     49    1              1        160          180          0           0   \n",
       "2     37    0              0        130          283          0           1   \n",
       "3     48    1              2        138          214          0           0   \n",
       "4     54    0              1        150          195          0           0   \n",
       "..   ...  ...            ...        ...          ...        ...         ...   \n",
       "913   45    0              3        110          264          0           0   \n",
       "914   68    0              2        144          193          1           0   \n",
       "915   57    0              2        130          131          0           0   \n",
       "916   57    1              0        130          236          0           2   \n",
       "917   38    0              1        138          175          0           0   \n",
       "\n",
       "     MaxHR  Oldpeak  \n",
       "0      172      0.0  \n",
       "1      156      1.0  \n",
       "2       98      0.0  \n",
       "3      108      1.5  \n",
       "4      122      0.0  \n",
       "..     ...      ...  \n",
       "913    132      1.2  \n",
       "914    141      3.4  \n",
       "915    115      1.2  \n",
       "916    174      0.0  \n",
       "917    173      0.0  \n",
       "\n",
       "[918 rows x 9 columns]"
      ]
     },
     "execution_count": 379,
     "metadata": {},
     "output_type": "execute_result"
    }
   ],
   "source": [
    "#Transform the data \n",
    "x_train = x_train.T\n",
    "y_train = y_train.T\n",
    "x_test = x_test.T\n",
    "y_test = y_test.T\n",
    "x_data"
   ]
  },
  {
   "cell_type": "code",
   "execution_count": 380,
   "id": "3af8b94d",
   "metadata": {},
   "outputs": [
    {
     "name": "stdout",
     "output_type": "stream",
     "text": [
      "Logisitic Regression Accuracy 78.26%\n",
      "              precision    recall  f1-score   support\n",
      "\n",
      "           0       0.78      0.68      0.72        77\n",
      "           1       0.79      0.86      0.82       107\n",
      "\n",
      "    accuracy                           0.78       184\n",
      "   macro avg       0.78      0.77      0.77       184\n",
      "weighted avg       0.78      0.78      0.78       184\n",
      "\n"
     ]
    }
   ],
   "source": [
    "logRegression = LogisticRegression() #Logistic Regression Model \n",
    "logRegression.fit(x_train.T,y_train.T) #Fit The Model \n",
    "score = logRegression.score(x_test.T,y_test.T)*100 #Score\n",
    "print(\"Logisitic Regression Accuracy {:.2f}%\".format(acc)) #Print Result\n",
    "y_pred = logRegression.predict(x_test.T) #PRedictor Variable \n",
    "print(classification_report(y_test, y_pred)) #Print Report "
   ]
  },
  {
   "cell_type": "code",
   "execution_count": 381,
   "id": "d63eca69",
   "metadata": {
    "scrolled": false
   },
   "outputs": [
    {
     "data": {
      "image/png": "[encoded data removed]",
      "text/plain": [
       "<Figure size 432x288 with 1 Axes>"
      ]
     },
     "metadata": {
      "needs_background": "light"
     },
     "output_type": "display_data"
    },
    {
     "name": "stdout",
     "output_type": "stream",
     "text": [
      "K-Nearest Neighbour Score: 80.98%\n",
      "              precision    recall  f1-score   support\n",
      "\n",
      "           0       0.77      0.78      0.77        77\n",
      "           1       0.84      0.83      0.84       107\n",
      "\n",
      "    accuracy                           0.81       184\n",
      "   macro avg       0.80      0.81      0.80       184\n",
      "weighted avg       0.81      0.81      0.81       184\n",
      "\n"
     ]
    }
   ],
   "source": [
    "#See which K-Number scores the highest accuracy \n",
    "scores = [] #Score List\n",
    "for i in range(1, 10): #Loop 10 times \n",
    "    knn = KNeighborsClassifier(n_neighbors=i)  #Run i neighbours  \n",
    "    knn.fit(x_train.T, y_train.T) #Fit the model\n",
    "    scores.append(knn.score(x_test.T, y_test.T)) #Add Score To List\n",
    "\n",
    "#Plot the line chart of scores \n",
    "plt.plot(range(1, 10), scores)\n",
    "plt.xticks(np.arange(1, 10, 1))\n",
    "plt.xlabel(\"K value\")\n",
    "plt.ylabel(\"Score\")\n",
    "plt.show()\n",
    "knn = KNeighborsClassifier(n_neighbors = 8)  #8 had the best score \n",
    "knn.fit(x_train.T, y_train.T) #Fit The Model\n",
    "print(\"K-Nearest Neighbour Score: {:.2f}%\".format(knn.score(x_test.T, y_test.T)*100))\n",
    "y_pred = knn.predict(x_test.T)\n",
    "print(classification_report(y_test, y_pred))"
   ]
  },
  {
   "cell_type": "code",
   "execution_count": 382,
   "id": "1d3fc610",
   "metadata": {},
   "outputs": [
    {
     "name": "stdout",
     "output_type": "stream",
     "text": [
      "Decision Tree Test Accuracy 78.26%\n",
      "              precision    recall  f1-score   support\n",
      "\n",
      "           0       0.63      0.70      0.66        77\n",
      "           1       0.77      0.70      0.73       107\n",
      "\n",
      "    accuracy                           0.70       184\n",
      "   macro avg       0.70      0.70      0.70       184\n",
      "weighted avg       0.71      0.70      0.70       184\n",
      "\n"
     ]
    }
   ],
   "source": [
    "dTree = DecisionTreeClassifier() #Initialize Model \n",
    "dTree.fit(x_train.T, y_train.T) #Fit The Model \n",
    "score = dTree.score(x_test.T, y_test.T)*100 #Score\n",
    "print(\"Decision Tree Test Accuracy {:.2f}%\".format(acc)) #Print The Score\n",
    "y_pred = dTree.predict(x_test.T) #Prediction \n",
    "print(classification_report(y_test, y_pred))"
   ]
  },
  {
   "cell_type": "code",
   "execution_count": null,
   "id": "824a6e0c",
   "metadata": {},
   "outputs": [],
   "source": []
  },
  {
   "cell_type": "code",
   "execution_count": null,
   "id": "6a258bb6",
   "metadata": {},
   "outputs": [],
   "source": []
  },
  {
   "cell_type": "code",
   "execution_count": null,
   "id": "26e7ae22",
   "metadata": {},
   "outputs": [],
   "source": []
  }
 ],
 "metadata": {
  "kernelspec": {
   "display_name": "Python 3 (ipykernel)",
   "language": "python",
   "name": "python3"
  },
  "language_info": {
   "codemirror_mode": {
    "name": "ipython",
    "version": 3
   },
   "file_extension": ".py",
   "mimetype": "text/x-python",
   "name": "python",
   "nbconvert_exporter": "python",
   "pygments_lexer": "ipython3",
   "version": "3.9.12"
  }
 },
 "nbformat": 4,
 "nbformat_minor": 5
}
